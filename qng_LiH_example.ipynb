{
  "nbformat": 4,
  "nbformat_minor": 0,
  "metadata": {
    "colab": {
      "name": "Untitled2.ipynb",
      "provenance": [],
      "authorship_tag": "ABX9TyPHEo/bEZi+7uheN1Tzmo90",
      "include_colab_link": true
    },
    "kernelspec": {
      "name": "python3",
      "display_name": "Python 3"
    }
  },
  "cells": [
    {
      "cell_type": "markdown",
      "metadata": {
        "id": "view-in-github",
        "colab_type": "text"
      },
      "source": [
        "<a href=\"https://colab.research.google.com/github/lanabozanic/quantum_natural_gradient/blob/master/qng_LiH_example.ipynb\" target=\"_parent\"><img src=\"https://colab.research.google.com/assets/colab-badge.svg\" alt=\"Open In Colab\"/></a>"
      ]
    },
    {
      "cell_type": "code",
      "metadata": {
        "id": "xasKNdx7Swu1",
        "colab_type": "code",
        "colab": {}
      },
      "source": [
        "!pip install pennylane"
      ],
      "execution_count": 0,
      "outputs": []
    },
    {
      "cell_type": "code",
      "metadata": {
        "id": "bb7oyxrvT68r",
        "colab_type": "code",
        "colab": {}
      },
      "source": [
        "pip install pennylane-qchem"
      ],
      "execution_count": 0,
      "outputs": []
    },
    {
      "cell_type": "code",
      "metadata": {
        "id": "JK_gVKFbS3mR",
        "colab_type": "code",
        "colab": {}
      },
      "source": [
        "#import packages\n",
        "import numpy as np\n",
        "import pennylane as qml\n",
        "from pennylane import expval, var, device\n",
        "\n",
        "pi = np.pi"
      ],
      "execution_count": 0,
      "outputs": []
    },
    {
      "cell_type": "code",
      "metadata": {
        "id": "v3agYICYWLuq",
        "colab_type": "code",
        "outputId": "0deef5fc-5fb9-4d07-a816-dba53d777223",
        "colab": {
          "base_uri": "https://localhost:8080/",
          "height": 1000
        }
      },
      "source": [
        "name ='LiH';charge = 0;multiplicity=1;basis= 'sto-3g';geometry = 'lih.xyz';\n",
        "h, nr_qubits = qml.qchem.generate_hamiltonian(\n",
        "    name,\n",
        "    geometry,\n",
        "    charge,\n",
        "    multiplicity,\n",
        "    basis,\n",
        "    mapping='jordan_wigner',\n",
        "    n_active_orbitals=3,\n",
        "    n_active_electrons=2,\n",
        ")\n",
        "print(h, '\\n', nr_qubits)"
      ],
      "execution_count": 3,
      "outputs": [
        {
          "output_type": "stream",
          "text": [
            "(-7.189117345981003) [I0]\n",
            "+ (0.02498336736064769) [Z0]\n",
            "+ (0.0048735920105351035) [Y0 Z1 Y2]\n",
            "+ (0.0048735920105351035) [X0 Z1 X2]\n",
            "+ (0.024983367360647678) [Z1]\n",
            "+ (0.0048735920105351035) [Y1 Z2 Y3]\n",
            "+ (0.0048735920105351035) [X1 Z2 X3]\n",
            "+ (-0.13300290682418384) [Z2]\n",
            "+ (-0.1330029068241838) [Z3]\n",
            "+ (-0.1445363855022916) [Z4]\n",
            "+ (-0.1445363855022916) [Z5]\n",
            "+ (0.13106579035624258) [Z0 Z1]\n",
            "+ (0.009702948635503639) [Y0 Y2]\n",
            "+ (0.009702948635503639) [X0 X2]\n",
            "+ (0.009702948635503639) [Z0 Y1 Z2 Y3]\n",
            "+ (0.009702948635503639) [Z0 X1 Z2 X3]\n",
            "+ (0.002366478148280204) [Y0 X1 X2 Y3]\n",
            "+ (-0.002366478148280204) [Y0 Y1 X2 X3]\n",
            "+ (-0.002366478148280204) [X0 X1 Y2 Y3]\n",
            "+ (0.002366478148280204) [X0 Y1 Y2 X3]\n",
            "+ (0.006795526682425653) [Y0 X1 X4 Y5]\n",
            "+ (-0.006795526682425653) [Y0 Y1 X4 X5]\n",
            "+ (-0.006795526682425653) [X0 X1 Y4 Y5]\n",
            "+ (0.006795526682425653) [X0 Y1 Y4 X5]\n",
            "+ (0.05929524181655196) [Z0 Z2]\n",
            "+ (0.06166171996483217) [Z0 Z3]\n",
            "+ (0.00034735301058658473) [Y0 Z1 Y2 Z3]\n",
            "+ (0.00034735301058658473) [X0 Z1 X2 Z3]\n",
            "+ (0.004889538713704247) [Y0 Z1 Z2 X3 X4 Y5]\n",
            "+ (-0.004889538713704247) [Y0 Z1 Z2 Y3 X4 X5]\n",
            "+ (-0.004889538713704247) [X0 Z1 Z2 X3 Y4 Y5]\n",
            "+ (0.004889538713704247) [X0 Z1 Z2 Y3 Y4 X5]\n",
            "+ (0.06832924266505007) [Z0 Z4]\n",
            "+ (0.004685761056460468) [Y0 Z1 Y2 Z4]\n",
            "+ (0.004685761056460468) [X0 Z1 X2 Z4]\n",
            "+ (0.07512476934747572) [Z0 Z5]\n",
            "+ (-0.00020377765724377862) [Y0 Z1 Y2 Z5]\n",
            "+ (-0.00020377765724377862) [X0 Z1 X2 Z5]\n",
            "+ (0.06166171996483217) [Z1 Z2]\n",
            "+ (0.0003473530105865848) [Y1 Y3]\n",
            "+ (0.0003473530105865848) [X1 X3]\n",
            "+ (-0.004889538713704247) [Y1 X2 X4 Y5]\n",
            "+ (-0.004889538713704247) [Y1 Y2 Y4 Y5]\n",
            "+ (-0.004889538713704247) [X1 X2 X4 X5]\n",
            "+ (-0.004889538713704247) [X1 Y2 Y4 X5]\n",
            "+ (0.05929524181655196) [Z1 Z3]\n",
            "+ (0.07512476934747572) [Z1 Z4]\n",
            "+ (-0.00020377765724377862) [Y1 Z2 Y3 Z4]\n",
            "+ (-0.00020377765724377862) [X1 Z2 X3 Z4]\n",
            "+ (0.06832924266505007) [Z1 Z5]\n",
            "+ (0.004685761056460468) [Y1 Z2 Y3 Z5]\n",
            "+ (0.004685761056460468) [X1 Z2 X3 Z5]\n",
            "+ (0.08475100244618912) [Z2 Z3]\n",
            "+ (0.010590593747757934) [Y2 X3 X4 Y5]\n",
            "+ (-0.010590593747757934) [Y2 Y3 X4 X5]\n",
            "+ (-0.010590593747757934) [X2 X3 Y4 Y5]\n",
            "+ (0.010590593747757934) [X2 Y3 Y4 X5]\n",
            "+ (0.0600970297766772) [Z2 Z4]\n",
            "+ (0.07068762352443513) [Z2 Z5]\n",
            "+ (0.07068762352443513) [Z3 Z4]\n",
            "+ (0.0600970297766772) [Z3 Z5]\n",
            "+ (0.07823637778985212) [Z4 Z5] \n",
            " 6\n"
          ],
          "name": "stdout"
        }
      ]
    },
    {
      "cell_type": "code",
      "metadata": {
        "id": "Uej1Hp1cS74d",
        "colab_type": "code",
        "colab": {}
      },
      "source": [
        "dev = qml.device(\"default.qubit\", wires=6)\n",
        "def ansatz(params, wires=[0,1,2,3,4,5]):\n",
        "    for i in wires:\n",
        "        qml.RY(params[i], wires=wires[i])\n",
        "    qml.CNOT(wires=[wires[0], wires[1]])\n",
        "    qml.CNOT(wires=[wires[2], wires[3]])\n",
        "    qml.CNOT(wires=[wires[4], wires[5]])\n",
        "    qml.CNOT(wires=[wires[1], wires[2]])\n",
        "    qml.CNOT(wires=[wires[3], wires[4]])\n",
        "    for i in wires:\n",
        "        qml.RY(params[i+6], wires=wires[i])\n",
        "    qml.CNOT(wires=[wires[0], wires[1]])\n",
        "    qml.CNOT(wires=[wires[2], wires[3]])\n",
        "    qml.CNOT(wires=[wires[4], wires[5]])\n",
        "    qml.CNOT(wires=[wires[1], wires[2]])\n",
        "    qml.CNOT(wires=[wires[3], wires[4]])\n",
        "\n",
        "initial_params = np.random.uniform(low=0, high=2*np.pi, size=12)"
      ],
      "execution_count": 0,
      "outputs": []
    },
    {
      "cell_type": "code",
      "metadata": {
        "id": "GypsVFbyS_KA",
        "colab_type": "code",
        "outputId": "2ede08fe-7e98-44d0-ecd3-e298cc381186",
        "colab": {
          "base_uri": "https://localhost:8080/",
          "height": 54
        }
      },
      "source": [
        "print(h.ops)"
      ],
      "execution_count": 9,
      "outputs": [
        {
          "output_type": "stream",
          "text": [
            "[<pennylane.operation.Tensor object at 0x7fa63633cc88>, <pennylane.operation.Tensor object at 0x7fa636318e10>, <pennylane.operation.Tensor object at 0x7fa63148ea20>, <pennylane.operation.Tensor object at 0x7fa600b2b7b8>, <pennylane.operation.Tensor object at 0x7fa600b2b940>, <pennylane.operation.Tensor object at 0x7fa600b2b9e8>, <pennylane.operation.Tensor object at 0x7fa600b2bb70>, <pennylane.operation.Tensor object at 0x7fa600b2bcf8>, <pennylane.operation.Tensor object at 0x7fa600b2bda0>, <pennylane.operation.Tensor object at 0x7fa600b2be48>, <pennylane.operation.Tensor object at 0x7fa600b2bef0>, <pennylane.operation.Tensor object at 0x7fa600b2bf98>, <pennylane.operation.Tensor object at 0x7fa5fd2aa0f0>, <pennylane.operation.Tensor object at 0x7fa5fd2aa208>, <pennylane.operation.Tensor object at 0x7fa5fd2aa320>, <pennylane.operation.Tensor object at 0x7fa5fd2aa518>, <pennylane.operation.Tensor object at 0x7fa5fd2aa710>, <pennylane.operation.Tensor object at 0x7fa5fd2aa908>, <pennylane.operation.Tensor object at 0x7fa5fd2aab00>, <pennylane.operation.Tensor object at 0x7fa5fd2aacf8>, <pennylane.operation.Tensor object at 0x7fa5fd2aaef0>, <pennylane.operation.Tensor object at 0x7fa5fd2ab128>, <pennylane.operation.Tensor object at 0x7fa5fd2ab320>, <pennylane.operation.Tensor object at 0x7fa5fd2ab518>, <pennylane.operation.Tensor object at 0x7fa5fd2ab710>, <pennylane.operation.Tensor object at 0x7fa5fd2ab828>, <pennylane.operation.Tensor object at 0x7fa5fd2ab940>, <pennylane.operation.Tensor object at 0x7fa5fd2abb38>, <pennylane.operation.Tensor object at 0x7fa5fd2abd30>, <pennylane.operation.Tensor object at 0x7fa5fd2af048>, <pennylane.operation.Tensor object at 0x7fa5fd2af320>, <pennylane.operation.Tensor object at 0x7fa5fd2af5f8>, <pennylane.operation.Tensor object at 0x7fa5fd2af8d0>, <pennylane.operation.Tensor object at 0x7fa5fd2af9e8>, <pennylane.operation.Tensor object at 0x7fa5fd2afbe0>, <pennylane.operation.Tensor object at 0x7fa5fd2afdd8>, <pennylane.operation.Tensor object at 0x7fa5fd2afef0>, <pennylane.operation.Tensor object at 0x7fa5fd2b2128>, <pennylane.operation.Tensor object at 0x7fa5fd2b2320>, <pennylane.operation.Tensor object at 0x7fa5fd2b2438>, <pennylane.operation.Tensor object at 0x7fa5fd2b2550>, <pennylane.operation.Tensor object at 0x7fa5fd2b2668>, <pennylane.operation.Tensor object at 0x7fa5fd2b2860>, <pennylane.operation.Tensor object at 0x7fa5fd2b2a58>, <pennylane.operation.Tensor object at 0x7fa5fd2b2c50>, <pennylane.operation.Tensor object at 0x7fa5fd2b2e48>, <pennylane.operation.Tensor object at 0x7fa5fd2b2f60>, <pennylane.operation.Tensor object at 0x7fa5fd2b50b8>, <pennylane.operation.Tensor object at 0x7fa5fd2b52b0>, <pennylane.operation.Tensor object at 0x7fa5fd2b54a8>, <pennylane.operation.Tensor object at 0x7fa5fd2b55c0>, <pennylane.operation.Tensor object at 0x7fa5fd2b57b8>, <pennylane.operation.Tensor object at 0x7fa5fd2b59b0>, <pennylane.operation.Tensor object at 0x7fa5fd2b5ac8>, <pennylane.operation.Tensor object at 0x7fa5fd2b5cc0>, <pennylane.operation.Tensor object at 0x7fa5fd2b5eb8>, <pennylane.operation.Tensor object at 0x7fa5fd2b80f0>, <pennylane.operation.Tensor object at 0x7fa5fd2b82e8>, <pennylane.operation.Tensor object at 0x7fa5fd2b8400>, <pennylane.operation.Tensor object at 0x7fa5fd2b8518>, <pennylane.operation.Tensor object at 0x7fa5fd2b8630>, <pennylane.operation.Tensor object at 0x7fa5fd2b8748>]\n"
          ],
          "name": "stdout"
        }
      ]
    },
    {
      "cell_type": "code",
      "metadata": {
        "id": "b7zx1-VGXo2e",
        "colab_type": "code",
        "colab": {}
      },
      "source": [
        "qnodes = qml.map(ansatz, h.ops, dev, measure='expval')\n",
        "cost = qml.dot([h.coeffs], qnodes)"
      ],
      "execution_count": 0,
      "outputs": []
    },
    {
      "cell_type": "code",
      "metadata": {
        "id": "6FJF8owJY7yo",
        "colab_type": "code",
        "outputId": "2eb54d84-63d5-4cc6-a9d8-e54115c9afaa",
        "colab": {
          "base_uri": "https://localhost:8080/",
          "height": 34
        }
      },
      "source": [
        "cost(initial_params)"
      ],
      "execution_count": 11,
      "outputs": [
        {
          "output_type": "execute_result",
          "data": {
            "text/plain": [
              "array([-7.13693969])"
            ]
          },
          "metadata": {
            "tags": []
          },
          "execution_count": 11
        }
      ]
    },
    {
      "cell_type": "code",
      "metadata": {
        "id": "dTKB3PmYiMVt",
        "colab_type": "code",
        "colab": {}
      },
      "source": [
        "fb_metric = qnodes[0].metric_tensor([initial_params], diag_approx=False)"
      ],
      "execution_count": 0,
      "outputs": []
    },
    {
      "cell_type": "code",
      "metadata": {
        "id": "7Kz1HQIc44UQ",
        "colab_type": "code",
        "colab": {
          "base_uri": "https://localhost:8080/",
          "height": 1000
        },
        "outputId": "646dbb51-e5a1-472e-9af8-38174dddead1"
      },
      "source": [
        "max_iterations = 200\n",
        "step_size = 0.05\n",
        "conv_tol = 1e-06\n",
        "\n",
        "optimizers = ['QNG', 'Vanilla']\n",
        "QNG_cost = []\n",
        "vanilla_cost = []\n",
        "\n",
        "\n",
        "prev_energy = cost(initial_params)\n",
        "for k in range(len(optimizers)):\n",
        "    \n",
        "    #Quantum Natural Gradient Descent\n",
        "    if optimizers[k] == 'QNG':\n",
        "        print(\"QUANTUM NATURAL GRADIENT\")\n",
        "        \n",
        "        #initial params (example from Yamamoto 2019, FIG 5)\n",
        "        params = initial_params\n",
        "        \n",
        "        for n in range(max_iterations):\n",
        "            #compute the gradient\n",
        "            gradient = qml.grad(cost, argnum=[0])\n",
        "            \n",
        "            #take the gradient of the params\n",
        "            grad_at_point = [float(i) for i in gradient(params)[0]]\n",
        "            \n",
        "            #perform quantum natural gradient.\n",
        "            params = params - step_size * np.dot(np.linalg.pinv(fb_metric), grad_at_point)\n",
        "            \n",
        "            #compute new energy with updates params\n",
        "            energy = cost(params)\n",
        "            QNG_cost.append(energy)\n",
        "            \n",
        "            #calculate convergence\n",
        "            conv = np.abs(energy - prev_energy)\n",
        "\n",
        "            if n % 20 == 0:\n",
        "                print('Iteration = ', n,  'Ground-state energy = ', energy, 'Ha',  'Convergence parameter =', conv, 'Ha')\n",
        "\n",
        "            if conv <= conv_tol:\n",
        "                print(\"final params: \", params)\n",
        "                break\n",
        "\n",
        "            prev_energy = energy\n",
        "            \n",
        "    #Vanilla Gradient Descent\n",
        "    if optimizers[k] == 'Vanilla':\n",
        "        print(\"VANILLA GRADIENT\")\n",
        "        params = initial_params\n",
        "        for n in range(max_iterations):\n",
        "            \n",
        "            gradient = qml.grad(cost, argnum=[0])\n",
        "            grad_at_point = [float(i) for i in gradient(params)[0]]\n",
        "            \n",
        "            #calculate vanilla gradient descent\n",
        "            params = params - np.dot(step_size, grad_at_point)\n",
        "            \n",
        "            #calculate new energy with updates params\n",
        "            energy = cost(params)\n",
        "            vanilla_cost.append(energy)\n",
        "            \n",
        "            #calculate convergence\n",
        "            conv = np.abs(energy - prev_energy)\n",
        "\n",
        "            if n % 1 == 0:\n",
        "                print('Iteration = ', n,  'Ground-state energy = ', energy, 'Ha',  'Convergence parameter =', conv, 'Ha')\n",
        "\n",
        "            if conv <= conv_tol:\n",
        "                break\n",
        "\n",
        "            prev_energy = energy"
      ],
      "execution_count": 13,
      "outputs": [
        {
          "output_type": "stream",
          "text": [
            "QUANTUM NATURAL GRADIENT\n",
            "Iteration =  0 Ground-state energy =  [-7.1500036] Ha Convergence parameter = [0.01306391] Ha\n",
            "Iteration =  20 Ground-state energy =  [-7.41177289] Ha Convergence parameter = [0.01040632] Ha\n",
            "Iteration =  40 Ground-state energy =  [-7.53065609] Ha Convergence parameter = [0.00292319] Ha\n",
            "Iteration =  60 Ground-state energy =  [-7.56261841] Ha Convergence parameter = [0.00089231] Ha\n",
            "Iteration =  80 Ground-state energy =  [-7.57489005] Ha Convergence parameter = [0.00045439] Ha\n",
            "Iteration =  100 Ground-state energy =  [-7.58236152] Ha Convergence parameter = [0.00031928] Ha\n",
            "Iteration =  120 Ground-state energy =  [-7.5879609] Ha Convergence parameter = [0.00024898] Ha\n",
            "Iteration =  140 Ground-state energy =  [-7.5923747] Ha Convergence parameter = [0.00019688] Ha\n",
            "Iteration =  160 Ground-state energy =  [-7.59585177] Ha Convergence parameter = [0.00015438] Ha\n",
            "Iteration =  180 Ground-state energy =  [-7.59856699] Ha Convergence parameter = [0.00012018] Ha\n",
            "VANILLA GRADIENT\n",
            "Iteration =  0 Ground-state energy =  [-7.14029355] Ha Convergence parameter = [0.46029167] Ha\n",
            "Iteration =  1 Ground-state energy =  [-7.14366512] Ha Convergence parameter = [0.00337157] Ha\n",
            "Iteration =  2 Ground-state energy =  [-7.14705393] Ha Convergence parameter = [0.00338881] Ha\n",
            "Iteration =  3 Ground-state energy =  [-7.15045948] Ha Convergence parameter = [0.00340556] Ha\n",
            "Iteration =  4 Ground-state energy =  [-7.15388128] Ha Convergence parameter = [0.0034218] Ha\n",
            "Iteration =  5 Ground-state energy =  [-7.1573188] Ha Convergence parameter = [0.00343752] Ha\n",
            "Iteration =  6 Ground-state energy =  [-7.16077149] Ha Convergence parameter = [0.00345269] Ha\n",
            "Iteration =  7 Ground-state energy =  [-7.16423879] Ha Convergence parameter = [0.0034673] Ha\n",
            "Iteration =  8 Ground-state energy =  [-7.16772011] Ha Convergence parameter = [0.00348133] Ha\n",
            "Iteration =  9 Ground-state energy =  [-7.17121488] Ha Convergence parameter = [0.00349476] Ha\n",
            "Iteration =  10 Ground-state energy =  [-7.17472246] Ha Convergence parameter = [0.00350758] Ha\n",
            "Iteration =  11 Ground-state energy =  [-7.17824223] Ha Convergence parameter = [0.00351977] Ha\n",
            "Iteration =  12 Ground-state energy =  [-7.18177354] Ha Convergence parameter = [0.00353131] Ha\n",
            "Iteration =  13 Ground-state energy =  [-7.18531573] Ha Convergence parameter = [0.00354219] Ha\n",
            "Iteration =  14 Ground-state energy =  [-7.18886813] Ha Convergence parameter = [0.0035524] Ha\n",
            "Iteration =  15 Ground-state energy =  [-7.19243004] Ha Convergence parameter = [0.00356191] Ha\n",
            "Iteration =  16 Ground-state energy =  [-7.19600076] Ha Convergence parameter = [0.00357072] Ha\n",
            "Iteration =  17 Ground-state energy =  [-7.19957957] Ha Convergence parameter = [0.00357881] Ha\n",
            "Iteration =  18 Ground-state energy =  [-7.20316575] Ha Convergence parameter = [0.00358617] Ha\n",
            "Iteration =  19 Ground-state energy =  [-7.20675854] Ha Convergence parameter = [0.00359279] Ha\n",
            "Iteration =  20 Ground-state energy =  [-7.2103572] Ha Convergence parameter = [0.00359866] Ha\n",
            "Iteration =  21 Ground-state energy =  [-7.21396096] Ha Convergence parameter = [0.00360376] Ha\n",
            "Iteration =  22 Ground-state energy =  [-7.21756906] Ha Convergence parameter = [0.00360809] Ha\n",
            "Iteration =  23 Ground-state energy =  [-7.2211807] Ha Convergence parameter = [0.00361164] Ha\n",
            "Iteration =  24 Ground-state energy =  [-7.2247951] Ha Convergence parameter = [0.0036144] Ha\n",
            "Iteration =  25 Ground-state energy =  [-7.22841147] Ha Convergence parameter = [0.00361636] Ha\n",
            "Iteration =  26 Ground-state energy =  [-7.23202899] Ha Convergence parameter = [0.00361752] Ha\n",
            "Iteration =  27 Ground-state energy =  [-7.23564686] Ha Convergence parameter = [0.00361787] Ha\n",
            "Iteration =  28 Ground-state energy =  [-7.23926426] Ha Convergence parameter = [0.0036174] Ha\n",
            "Iteration =  29 Ground-state energy =  [-7.24288038] Ha Convergence parameter = [0.00361612] Ha\n",
            "Iteration =  30 Ground-state energy =  [-7.24649439] Ha Convergence parameter = [0.00361401] Ha\n",
            "Iteration =  31 Ground-state energy =  [-7.25010546] Ha Convergence parameter = [0.00361107] Ha\n",
            "Iteration =  32 Ground-state energy =  [-7.25371278] Ha Convergence parameter = [0.00360731] Ha\n",
            "Iteration =  33 Ground-state energy =  [-7.25731551] Ha Convergence parameter = [0.00360273] Ha\n",
            "Iteration =  34 Ground-state energy =  [-7.26091282] Ha Convergence parameter = [0.00359731] Ha\n",
            "Iteration =  35 Ground-state energy =  [-7.26450389] Ha Convergence parameter = [0.00359107] Ha\n",
            "Iteration =  36 Ground-state energy =  [-7.2680879] Ha Convergence parameter = [0.00358401] Ha\n",
            "Iteration =  37 Ground-state energy =  [-7.27166402] Ha Convergence parameter = [0.00357612] Ha\n",
            "Iteration =  38 Ground-state energy =  [-7.27523144] Ha Convergence parameter = [0.00356742] Ha\n",
            "Iteration =  39 Ground-state energy =  [-7.27878933] Ha Convergence parameter = [0.0035579] Ha\n",
            "Iteration =  40 Ground-state energy =  [-7.2823369] Ha Convergence parameter = [0.00354757] Ha\n",
            "Iteration =  41 Ground-state energy =  [-7.28587334] Ha Convergence parameter = [0.00353644] Ha\n",
            "Iteration =  42 Ground-state energy =  [-7.28939785] Ha Convergence parameter = [0.00352451] Ha\n",
            "Iteration =  43 Ground-state energy =  [-7.29290965] Ha Convergence parameter = [0.0035118] Ha\n",
            "Iteration =  44 Ground-state energy =  [-7.29640796] Ha Convergence parameter = [0.00349831] Ha\n",
            "Iteration =  45 Ground-state energy =  [-7.299892] Ha Convergence parameter = [0.00348404] Ha\n",
            "Iteration =  46 Ground-state energy =  [-7.30336103] Ha Convergence parameter = [0.00346902] Ha\n",
            "Iteration =  47 Ground-state energy =  [-7.30681428] Ha Convergence parameter = [0.00345325] Ha\n",
            "Iteration =  48 Ground-state energy =  [-7.31025102] Ha Convergence parameter = [0.00343674] Ha\n",
            "Iteration =  49 Ground-state energy =  [-7.31367053] Ha Convergence parameter = [0.00341951] Ha\n",
            "Iteration =  50 Ground-state energy =  [-7.31707209] Ha Convergence parameter = [0.00340156] Ha\n",
            "Iteration =  51 Ground-state energy =  [-7.32045502] Ha Convergence parameter = [0.00338292] Ha\n",
            "Iteration =  52 Ground-state energy =  [-7.32381861] Ha Convergence parameter = [0.0033636] Ha\n",
            "Iteration =  53 Ground-state energy =  [-7.32716222] Ha Convergence parameter = [0.0033436] Ha\n",
            "Iteration =  54 Ground-state energy =  [-7.33048517] Ha Convergence parameter = [0.00332296] Ha\n",
            "Iteration =  55 Ground-state energy =  [-7.33378685] Ha Convergence parameter = [0.00330167] Ha\n",
            "Iteration =  56 Ground-state energy =  [-7.33706662] Ha Convergence parameter = [0.00327977] Ha\n",
            "Iteration =  57 Ground-state energy =  [-7.34032389] Ha Convergence parameter = [0.00325727] Ha\n",
            "Iteration =  58 Ground-state energy =  [-7.34355807] Ha Convergence parameter = [0.00323418] Ha\n",
            "Iteration =  59 Ground-state energy =  [-7.3467686] Ha Convergence parameter = [0.00321053] Ha\n",
            "Iteration =  60 Ground-state energy =  [-7.34995492] Ha Convergence parameter = [0.00318633] Ha\n",
            "Iteration =  61 Ground-state energy =  [-7.35311652] Ha Convergence parameter = [0.0031616] Ha\n",
            "Iteration =  62 Ground-state energy =  [-7.35625288] Ha Convergence parameter = [0.00313636] Ha\n",
            "Iteration =  63 Ground-state energy =  [-7.35936351] Ha Convergence parameter = [0.00311063] Ha\n",
            "Iteration =  64 Ground-state energy =  [-7.36244795] Ha Convergence parameter = [0.00308444] Ha\n",
            "Iteration =  65 Ground-state energy =  [-7.36550575] Ha Convergence parameter = [0.0030578] Ha\n",
            "Iteration =  66 Ground-state energy =  [-7.36853648] Ha Convergence parameter = [0.00303073] Ha\n",
            "Iteration =  67 Ground-state energy =  [-7.37153973] Ha Convergence parameter = [0.00300325] Ha\n",
            "Iteration =  68 Ground-state energy =  [-7.37451511] Ha Convergence parameter = [0.00297539] Ha\n",
            "Iteration =  69 Ground-state energy =  [-7.37746227] Ha Convergence parameter = [0.00294716] Ha\n",
            "Iteration =  70 Ground-state energy =  [-7.38038086] Ha Convergence parameter = [0.00291859] Ha\n",
            "Iteration =  71 Ground-state energy =  [-7.38327055] Ha Convergence parameter = [0.00288969] Ha\n",
            "Iteration =  72 Ground-state energy =  [-7.38613104] Ha Convergence parameter = [0.00286049] Ha\n",
            "Iteration =  73 Ground-state energy =  [-7.38896206] Ha Convergence parameter = [0.00283102] Ha\n",
            "Iteration =  74 Ground-state energy =  [-7.39176334] Ha Convergence parameter = [0.00280128] Ha\n",
            "Iteration =  75 Ground-state energy =  [-7.39453464] Ha Convergence parameter = [0.0027713] Ha\n",
            "Iteration =  76 Ground-state energy =  [-7.39727575] Ha Convergence parameter = [0.00274111] Ha\n",
            "Iteration =  77 Ground-state energy =  [-7.39998647] Ha Convergence parameter = [0.00271072] Ha\n",
            "Iteration =  78 Ground-state energy =  [-7.40266663] Ha Convergence parameter = [0.00268015] Ha\n",
            "Iteration =  79 Ground-state energy =  [-7.40531606] Ha Convergence parameter = [0.00264943] Ha\n",
            "Iteration =  80 Ground-state energy =  [-7.40793463] Ha Convergence parameter = [0.00261857] Ha\n",
            "Iteration =  81 Ground-state energy =  [-7.41052223] Ha Convergence parameter = [0.0025876] Ha\n",
            "Iteration =  82 Ground-state energy =  [-7.41307875] Ha Convergence parameter = [0.00255652] Ha\n",
            "Iteration =  83 Ground-state energy =  [-7.41560412] Ha Convergence parameter = [0.00252537] Ha\n",
            "Iteration =  84 Ground-state energy =  [-7.41809829] Ha Convergence parameter = [0.00249416] Ha\n",
            "Iteration =  85 Ground-state energy =  [-7.4205612] Ha Convergence parameter = [0.00246291] Ha\n",
            "Iteration =  86 Ground-state energy =  [-7.42299284] Ha Convergence parameter = [0.00243164] Ha\n",
            "Iteration =  87 Ground-state energy =  [-7.42539321] Ha Convergence parameter = [0.00240036] Ha\n",
            "Iteration =  88 Ground-state energy =  [-7.42776231] Ha Convergence parameter = [0.0023691] Ha\n",
            "Iteration =  89 Ground-state energy =  [-7.43010017] Ha Convergence parameter = [0.00233787] Ha\n",
            "Iteration =  90 Ground-state energy =  [-7.43240685] Ha Convergence parameter = [0.00230668] Ha\n",
            "Iteration =  91 Ground-state energy =  [-7.4346824] Ha Convergence parameter = [0.00227555] Ha\n",
            "Iteration =  92 Ground-state energy =  [-7.43692691] Ha Convergence parameter = [0.0022445] Ha\n",
            "Iteration =  93 Ground-state energy =  [-7.43914045] Ha Convergence parameter = [0.00221355] Ha\n",
            "Iteration =  94 Ground-state energy =  [-7.44132315] Ha Convergence parameter = [0.0021827] Ha\n",
            "Iteration =  95 Ground-state energy =  [-7.44347512] Ha Convergence parameter = [0.00215197] Ha\n",
            "Iteration =  96 Ground-state energy =  [-7.4455965] Ha Convergence parameter = [0.00212138] Ha\n",
            "Iteration =  97 Ground-state energy =  [-7.44768743] Ha Convergence parameter = [0.00209093] Ha\n",
            "Iteration =  98 Ground-state energy =  [-7.44974808] Ha Convergence parameter = [0.00206065] Ha\n",
            "Iteration =  99 Ground-state energy =  [-7.45177862] Ha Convergence parameter = [0.00203054] Ha\n",
            "Iteration =  100 Ground-state energy =  [-7.45377923] Ha Convergence parameter = [0.00200061] Ha\n",
            "Iteration =  101 Ground-state energy =  [-7.45575011] Ha Convergence parameter = [0.00197088] Ha\n",
            "Iteration =  102 Ground-state energy =  [-7.45769146] Ha Convergence parameter = [0.00194135] Ha\n",
            "Iteration =  103 Ground-state energy =  [-7.4596035] Ha Convergence parameter = [0.00191204] Ha\n",
            "Iteration =  104 Ground-state energy =  [-7.46148646] Ha Convergence parameter = [0.00188296] Ha\n",
            "Iteration =  105 Ground-state energy =  [-7.46334057] Ha Convergence parameter = [0.00185411] Ha\n",
            "Iteration =  106 Ground-state energy =  [-7.46516607] Ha Convergence parameter = [0.0018255] Ha\n",
            "Iteration =  107 Ground-state energy =  [-7.46696321] Ha Convergence parameter = [0.00179715] Ha\n",
            "Iteration =  108 Ground-state energy =  [-7.46873226] Ha Convergence parameter = [0.00176905] Ha\n",
            "Iteration =  109 Ground-state energy =  [-7.47047348] Ha Convergence parameter = [0.00174122] Ha\n",
            "Iteration =  110 Ground-state energy =  [-7.47218714] Ha Convergence parameter = [0.00171366] Ha\n",
            "Iteration =  111 Ground-state energy =  [-7.47387353] Ha Convergence parameter = [0.00168638] Ha\n",
            "Iteration =  112 Ground-state energy =  [-7.47553291] Ha Convergence parameter = [0.00165939] Ha\n",
            "Iteration =  113 Ground-state energy =  [-7.4771656] Ha Convergence parameter = [0.00163268] Ha\n",
            "Iteration =  114 Ground-state energy =  [-7.47877187] Ha Convergence parameter = [0.00160627] Ha\n",
            "Iteration =  115 Ground-state energy =  [-7.48035203] Ha Convergence parameter = [0.00158016] Ha\n",
            "Iteration =  116 Ground-state energy =  [-7.48190639] Ha Convergence parameter = [0.00155436] Ha\n",
            "Iteration =  117 Ground-state energy =  [-7.48343524] Ha Convergence parameter = [0.00152886] Ha\n",
            "Iteration =  118 Ground-state energy =  [-7.48493891] Ha Convergence parameter = [0.00150367] Ha\n",
            "Iteration =  119 Ground-state energy =  [-7.4864177] Ha Convergence parameter = [0.00147879] Ha\n",
            "Iteration =  120 Ground-state energy =  [-7.48787193] Ha Convergence parameter = [0.00145423] Ha\n",
            "Iteration =  121 Ground-state energy =  [-7.48930191] Ha Convergence parameter = [0.00142999] Ha\n",
            "Iteration =  122 Ground-state energy =  [-7.49070797] Ha Convergence parameter = [0.00140606] Ha\n",
            "Iteration =  123 Ground-state energy =  [-7.49209043] Ha Convergence parameter = [0.00138246] Ha\n",
            "Iteration =  124 Ground-state energy =  [-7.49344961] Ha Convergence parameter = [0.00135918] Ha\n",
            "Iteration =  125 Ground-state energy =  [-7.49478584] Ha Convergence parameter = [0.00133622] Ha\n",
            "Iteration =  126 Ground-state energy =  [-7.49609943] Ha Convergence parameter = [0.00131359] Ha\n",
            "Iteration =  127 Ground-state energy =  [-7.49739071] Ha Convergence parameter = [0.00129128] Ha\n",
            "Iteration =  128 Ground-state energy =  [-7.49866001] Ha Convergence parameter = [0.0012693] Ha\n",
            "Iteration =  129 Ground-state energy =  [-7.49990765] Ha Convergence parameter = [0.00124764] Ha\n",
            "Iteration =  130 Ground-state energy =  [-7.50113395] Ha Convergence parameter = [0.0012263] Ha\n",
            "Iteration =  131 Ground-state energy =  [-7.50233925] Ha Convergence parameter = [0.00120529] Ha\n",
            "Iteration =  132 Ground-state energy =  [-7.50352384] Ha Convergence parameter = [0.0011846] Ha\n",
            "Iteration =  133 Ground-state energy =  [-7.50468807] Ha Convergence parameter = [0.00116423] Ha\n",
            "Iteration =  134 Ground-state energy =  [-7.50583225] Ha Convergence parameter = [0.00114418] Ha\n",
            "Iteration =  135 Ground-state energy =  [-7.50695669] Ha Convergence parameter = [0.00112444] Ha\n",
            "Iteration =  136 Ground-state energy =  [-7.50806172] Ha Convergence parameter = [0.00110503] Ha\n",
            "Iteration =  137 Ground-state energy =  [-7.50914765] Ha Convergence parameter = [0.00108592] Ha\n",
            "Iteration =  138 Ground-state energy =  [-7.51021478] Ha Convergence parameter = [0.00106713] Ha\n",
            "Iteration =  139 Ground-state energy =  [-7.51126343] Ha Convergence parameter = [0.00104865] Ha\n",
            "Iteration =  140 Ground-state energy =  [-7.51229391] Ha Convergence parameter = [0.00103048] Ha\n",
            "Iteration =  141 Ground-state energy =  [-7.51330653] Ha Convergence parameter = [0.00101261] Ha\n",
            "Iteration =  142 Ground-state energy =  [-7.51430158] Ha Convergence parameter = [0.00099505] Ha\n",
            "Iteration =  143 Ground-state energy =  [-7.51527936] Ha Convergence parameter = [0.00097778] Ha\n",
            "Iteration =  144 Ground-state energy =  [-7.51624018] Ha Convergence parameter = [0.00096082] Ha\n",
            "Iteration =  145 Ground-state energy =  [-7.51718432] Ha Convergence parameter = [0.00094414] Ha\n",
            "Iteration =  146 Ground-state energy =  [-7.51811208] Ha Convergence parameter = [0.00092776] Ha\n",
            "Iteration =  147 Ground-state energy =  [-7.51902374] Ha Convergence parameter = [0.00091166] Ha\n",
            "Iteration =  148 Ground-state energy =  [-7.5199196] Ha Convergence parameter = [0.00089585] Ha\n",
            "Iteration =  149 Ground-state energy =  [-7.52079992] Ha Convergence parameter = [0.00088033] Ha\n",
            "Iteration =  150 Ground-state energy =  [-7.521665] Ha Convergence parameter = [0.00086508] Ha\n",
            "Iteration =  151 Ground-state energy =  [-7.5225151] Ha Convergence parameter = [0.0008501] Ha\n",
            "Iteration =  152 Ground-state energy =  [-7.5233505] Ha Convergence parameter = [0.0008354] Ha\n",
            "Iteration =  153 Ground-state energy =  [-7.52417146] Ha Convergence parameter = [0.00082096] Ha\n",
            "Iteration =  154 Ground-state energy =  [-7.52497825] Ha Convergence parameter = [0.00080679] Ha\n",
            "Iteration =  155 Ground-state energy =  [-7.52577113] Ha Convergence parameter = [0.00079288] Ha\n",
            "Iteration =  156 Ground-state energy =  [-7.52655036] Ha Convergence parameter = [0.00077923] Ha\n",
            "Iteration =  157 Ground-state energy =  [-7.52731619] Ha Convergence parameter = [0.00076583] Ha\n",
            "Iteration =  158 Ground-state energy =  [-7.52806886] Ha Convergence parameter = [0.00075268] Ha\n",
            "Iteration =  159 Ground-state energy =  [-7.52880864] Ha Convergence parameter = [0.00073977] Ha\n",
            "Iteration =  160 Ground-state energy =  [-7.52953575] Ha Convergence parameter = [0.00072711] Ha\n",
            "Iteration =  161 Ground-state energy =  [-7.53025045] Ha Convergence parameter = [0.00071469] Ha\n",
            "Iteration =  162 Ground-state energy =  [-7.53095296] Ha Convergence parameter = [0.00070251] Ha\n",
            "Iteration =  163 Ground-state energy =  [-7.53164351] Ha Convergence parameter = [0.00069056] Ha\n",
            "Iteration =  164 Ground-state energy =  [-7.53232234] Ha Convergence parameter = [0.00067883] Ha\n",
            "Iteration =  165 Ground-state energy =  [-7.53298967] Ha Convergence parameter = [0.00066733] Ha\n",
            "Iteration =  166 Ground-state energy =  [-7.53364572] Ha Convergence parameter = [0.00065605] Ha\n",
            "Iteration =  167 Ground-state energy =  [-7.53429071] Ha Convergence parameter = [0.00064499] Ha\n",
            "Iteration =  168 Ground-state energy =  [-7.53492485] Ha Convergence parameter = [0.00063414] Ha\n",
            "Iteration =  169 Ground-state energy =  [-7.53554835] Ha Convergence parameter = [0.0006235] Ha\n",
            "Iteration =  170 Ground-state energy =  [-7.53616142] Ha Convergence parameter = [0.00061307] Ha\n",
            "Iteration =  171 Ground-state energy =  [-7.53676426] Ha Convergence parameter = [0.00060284] Ha\n",
            "Iteration =  172 Ground-state energy =  [-7.53735707] Ha Convergence parameter = [0.00059281] Ha\n",
            "Iteration =  173 Ground-state energy =  [-7.53794005] Ha Convergence parameter = [0.00058298] Ha\n",
            "Iteration =  174 Ground-state energy =  [-7.53851339] Ha Convergence parameter = [0.00057334] Ha\n",
            "Iteration =  175 Ground-state energy =  [-7.53907728] Ha Convergence parameter = [0.00056389] Ha\n",
            "Iteration =  176 Ground-state energy =  [-7.53963191] Ha Convergence parameter = [0.00055462] Ha\n",
            "Iteration =  177 Ground-state energy =  [-7.54017745] Ha Convergence parameter = [0.00054554] Ha\n",
            "Iteration =  178 Ground-state energy =  [-7.54071409] Ha Convergence parameter = [0.00053664] Ha\n",
            "Iteration =  179 Ground-state energy =  [-7.541242] Ha Convergence parameter = [0.00052791] Ha\n",
            "Iteration =  180 Ground-state energy =  [-7.54176136] Ha Convergence parameter = [0.00051936] Ha\n",
            "Iteration =  181 Ground-state energy =  [-7.54227233] Ha Convergence parameter = [0.00051097] Ha\n",
            "Iteration =  182 Ground-state energy =  [-7.54277508] Ha Convergence parameter = [0.00050275] Ha\n",
            "Iteration =  183 Ground-state energy =  [-7.54326978] Ha Convergence parameter = [0.0004947] Ha\n",
            "Iteration =  184 Ground-state energy =  [-7.54375658] Ha Convergence parameter = [0.0004868] Ha\n",
            "Iteration =  185 Ground-state energy =  [-7.54423565] Ha Convergence parameter = [0.00047906] Ha\n",
            "Iteration =  186 Ground-state energy =  [-7.54470713] Ha Convergence parameter = [0.00047148] Ha\n",
            "Iteration =  187 Ground-state energy =  [-7.54517118] Ha Convergence parameter = [0.00046405] Ha\n",
            "Iteration =  188 Ground-state energy =  [-7.54562794] Ha Convergence parameter = [0.00045676] Ha\n",
            "Iteration =  189 Ground-state energy =  [-7.54607756] Ha Convergence parameter = [0.00044962] Ha\n",
            "Iteration =  190 Ground-state energy =  [-7.54652019] Ha Convergence parameter = [0.00044263] Ha\n",
            "Iteration =  191 Ground-state energy =  [-7.54695595] Ha Convergence parameter = [0.00043577] Ha\n",
            "Iteration =  192 Ground-state energy =  [-7.547385] Ha Convergence parameter = [0.00042905] Ha\n",
            "Iteration =  193 Ground-state energy =  [-7.54780746] Ha Convergence parameter = [0.00042246] Ha\n",
            "Iteration =  194 Ground-state energy =  [-7.54822347] Ha Convergence parameter = [0.00041601] Ha\n",
            "Iteration =  195 Ground-state energy =  [-7.54863315] Ha Convergence parameter = [0.00040968] Ha\n",
            "Iteration =  196 Ground-state energy =  [-7.54903663] Ha Convergence parameter = [0.00040348] Ha\n",
            "Iteration =  197 Ground-state energy =  [-7.54943404] Ha Convergence parameter = [0.00039741] Ha\n",
            "Iteration =  198 Ground-state energy =  [-7.54982549] Ha Convergence parameter = [0.00039145] Ha\n",
            "Iteration =  199 Ground-state energy =  [-7.55021111] Ha Convergence parameter = [0.00038562] Ha\n"
          ],
          "name": "stdout"
        }
      ]
    },
    {
      "cell_type": "code",
      "metadata": {
        "id": "4tDMZhD045nO",
        "colab_type": "code",
        "colab": {
          "base_uri": "https://localhost:8080/",
          "height": 279
        },
        "outputId": "6c1281c3-7c9f-4a19-8089-09f091dbfebc"
      },
      "source": [
        "from matplotlib import pyplot as plt\n",
        "plt.plot(QNG_cost, \"black\", label=\"quantum natural gradient descent\")\n",
        "plt.plot(vanilla_cost, \"pink\", label=\"vanilla natural gradient descent\")\n",
        "\n",
        "plt.ylabel(\"Energy\")\n",
        "plt.xlabel(\"Step\")\n",
        "plt.legend()\n",
        "plt.show()"
      ],
      "execution_count": 14,
      "outputs": [
        {
          "output_type": "display_data",
          "data": {
            "image/png": "[encoded data removed]",
            "text/plain": [
              "<Figure size 432x288 with 1 Axes>"
            ]
          },
          "metadata": {
            "tags": [],
            "needs_background": "light"
          }
        }
      ]
    },
    {
      "cell_type": "code",
      "metadata": {
        "id": "bwIk0dqkBMJa",
        "colab_type": "code",
        "colab": {}
      },
      "source": [
        ""
      ],
      "execution_count": 0,
      "outputs": []
    }
  ]
}